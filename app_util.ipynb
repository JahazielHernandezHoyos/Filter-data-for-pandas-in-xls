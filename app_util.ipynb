{
 "cells": [
  {
   "cell_type": "code",
   "execution_count": 23,
   "metadata": {},
   "outputs": [
    {
     "data": {
      "text/plain": [
       "[Nombre           Juan\n",
       " Email     1@gmail.com\n",
       " Name: 0, dtype: object,\n",
       " Nombre          Pedro\n",
       " Email     2@gmail.com\n",
       " Name: 1, dtype: object,\n",
       " Nombre         Manuel\n",
       " Email     3@gmail.com\n",
       " Name: 2, dtype: object,\n",
       " Nombre           Jose\n",
       " Email     4@gmail.com\n",
       " Name: 3, dtype: object,\n",
       " Nombre      Sebastian\n",
       " Email     5@gmail.com\n",
       " Name: 4, dtype: object,\n",
       " Nombre          Pablo\n",
       " Email     6@gmail.com\n",
       " Name: 5, dtype: object,\n",
       " Nombre        Ernesto\n",
       " Email     7@gmail.com\n",
       " Name: 6, dtype: object,\n",
       " Nombre          Kevin\n",
       " Email     8@gmail.com\n",
       " Name: 7, dtype: object]"
      ]
     },
     "execution_count": 23,
     "metadata": {},
     "output_type": "execute_result"
    }
   ],
   "source": [
    "# leer datos del archivo xls\n",
    "import pandas as pd\n",
    "\n",
    "\n",
    "def leer_datos(archivo):\n",
    "    df = pd.read_excel(archivo)\n",
    "    return df\n",
    "\n",
    "\n",
    "def comparar_columna(datos):\n",
    "    # recorrer todas las filas de la columna 'Email'\n",
    "    data_filter = []\n",
    "    for i in range(len(datos)):\n",
    "        # extraer los valores que no se repiten\n",
    "        if datos.iloc[i]['Email'] not in datos.iloc[:i]['Email'].values:\n",
    "            data_filter.append(datos.iloc[i])\n",
    "    return data_filter\n",
    "\n",
    "\n",
    "datos = leer_datos('datos.xls')\n",
    "comparar_columna(datos)\n"
   ]
  }
 ],
 "metadata": {
  "kernelspec": {
   "display_name": "Python 3.10.4 64-bit",
   "language": "python",
   "name": "python3"
  },
  "language_info": {
   "name": "python",
   "version": "3.10.4"
  },
  "orig_nbformat": 4,
  "vscode": {
   "interpreter": {
    "hash": "31f2aee4e71d21fbe5cf8b01ff0e069b9275f58929596ceb00d14d90e3e16cd6"
   }
  }
 },
 "nbformat": 4,
 "nbformat_minor": 2
}
